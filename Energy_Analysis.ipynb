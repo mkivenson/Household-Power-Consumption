{
 "cells": [
  {
   "cell_type": "markdown",
   "metadata": {},
   "source": [
    "## Goals\n",
    "\n",
    "### Visualization\n",
    "1. Plot series over the entire four year timeframe\n",
    "2. Plot average monthly consumption\n",
    "3. Plot typical daily consumption by month\n",
    "\n",
    "### Forecasting \n",
    "1. Predict household consumption for a given date and time."
   ]
  },
  {
   "cell_type": "markdown",
   "metadata": {},
   "source": [
    "## Get Data"
   ]
  },
  {
   "cell_type": "code",
   "execution_count": 545,
   "metadata": {},
   "outputs": [],
   "source": [
    "#Import libraries\n",
    "import pandas as pd\n",
    "import numpy as np\n",
    "import matplotlib.pyplot as plt\n",
    "import seaborn as sns\n",
    "from datetime import datetime\n",
    "import plotly as py\n",
    "import plotly.graph_objs as go\n",
    "py.tools.set_credentials_file(username='mkivenson', api_key='Y19BsRhiyhvFyZe72Gzw')"
   ]
  },
  {
   "cell_type": "code",
   "execution_count": 555,
   "metadata": {
    "scrolled": true
   },
   "outputs": [],
   "source": [
    "#Import data file\n",
    "path = 'household_power_consumption.txt'\n",
    "\n",
    "dtypes = {'Date': str,\n",
    "          'Time': str,\n",
    "          'Global_active_power': float,\n",
    "          'Global_reactive_power': float,\n",
    "          'Voltage': float,\n",
    "          'Global_intensity': float,\n",
    "          'Sub_metering_1': float,\n",
    "          'Sub_metering_2': float,\n",
    "          'Sub_metering_3': float}\n",
    "\n",
    "#drop na values\n",
    "energy = pd.read_csv(path, sep=';',dtype=dtypes, na_values=\"?\")\n",
    "energy = energy.dropna()"
   ]
  },
  {
   "cell_type": "code",
   "execution_count": 556,
   "metadata": {},
   "outputs": [
    {
     "data": {
      "text/html": [
       "<div>\n",
       "<style scoped>\n",
       "    .dataframe tbody tr th:only-of-type {\n",
       "        vertical-align: middle;\n",
       "    }\n",
       "\n",
       "    .dataframe tbody tr th {\n",
       "        vertical-align: top;\n",
       "    }\n",
       "\n",
       "    .dataframe thead th {\n",
       "        text-align: right;\n",
       "    }\n",
       "</style>\n",
       "<table border=\"1\" class=\"dataframe\">\n",
       "  <thead>\n",
       "    <tr style=\"text-align: right;\">\n",
       "      <th></th>\n",
       "      <th>Date_Time</th>\n",
       "      <th>Date</th>\n",
       "      <th>Year</th>\n",
       "      <th>Month</th>\n",
       "      <th>Day</th>\n",
       "      <th>Hour</th>\n",
       "      <th>Time</th>\n",
       "      <th>Global_active_power</th>\n",
       "    </tr>\n",
       "  </thead>\n",
       "  <tbody>\n",
       "    <tr>\n",
       "      <th>0</th>\n",
       "      <td>2006-12-16 17:24:00</td>\n",
       "      <td>16/12/2006</td>\n",
       "      <td>2006</td>\n",
       "      <td>12</td>\n",
       "      <td>5</td>\n",
       "      <td>17</td>\n",
       "      <td>17:24:00</td>\n",
       "      <td>4.216</td>\n",
       "    </tr>\n",
       "    <tr>\n",
       "      <th>1</th>\n",
       "      <td>2006-12-16 17:25:00</td>\n",
       "      <td>16/12/2006</td>\n",
       "      <td>2006</td>\n",
       "      <td>12</td>\n",
       "      <td>5</td>\n",
       "      <td>17</td>\n",
       "      <td>17:25:00</td>\n",
       "      <td>5.360</td>\n",
       "    </tr>\n",
       "    <tr>\n",
       "      <th>2</th>\n",
       "      <td>2006-12-16 17:26:00</td>\n",
       "      <td>16/12/2006</td>\n",
       "      <td>2006</td>\n",
       "      <td>12</td>\n",
       "      <td>5</td>\n",
       "      <td>17</td>\n",
       "      <td>17:26:00</td>\n",
       "      <td>5.374</td>\n",
       "    </tr>\n",
       "    <tr>\n",
       "      <th>3</th>\n",
       "      <td>2006-12-16 17:27:00</td>\n",
       "      <td>16/12/2006</td>\n",
       "      <td>2006</td>\n",
       "      <td>12</td>\n",
       "      <td>5</td>\n",
       "      <td>17</td>\n",
       "      <td>17:27:00</td>\n",
       "      <td>5.388</td>\n",
       "    </tr>\n",
       "    <tr>\n",
       "      <th>4</th>\n",
       "      <td>2006-12-16 17:28:00</td>\n",
       "      <td>16/12/2006</td>\n",
       "      <td>2006</td>\n",
       "      <td>12</td>\n",
       "      <td>5</td>\n",
       "      <td>17</td>\n",
       "      <td>17:28:00</td>\n",
       "      <td>3.666</td>\n",
       "    </tr>\n",
       "  </tbody>\n",
       "</table>\n",
       "</div>"
      ],
      "text/plain": [
       "            Date_Time        Date  Year  Month  Day  Hour      Time  \\\n",
       "0 2006-12-16 17:24:00  16/12/2006  2006     12    5    17  17:24:00   \n",
       "1 2006-12-16 17:25:00  16/12/2006  2006     12    5    17  17:25:00   \n",
       "2 2006-12-16 17:26:00  16/12/2006  2006     12    5    17  17:26:00   \n",
       "3 2006-12-16 17:27:00  16/12/2006  2006     12    5    17  17:27:00   \n",
       "4 2006-12-16 17:28:00  16/12/2006  2006     12    5    17  17:28:00   \n",
       "\n",
       "   Global_active_power  \n",
       "0                4.216  \n",
       "1                5.360  \n",
       "2                5.374  \n",
       "3                5.388  \n",
       "4                3.666  "
      ]
     },
     "execution_count": 556,
     "metadata": {},
     "output_type": "execute_result"
    }
   ],
   "source": [
    "#Insert additional columns\n",
    "energy.insert(0, 'Date_Time', pd.to_datetime(energy['Date'] + ' ' + energy['Time'])) #datetime format\n",
    "energy.insert(2, 'Year',energy['Date_Time'].dt.year) #year\n",
    "energy.insert(3, 'Month',energy['Date_Time'].dt.month) #month\n",
    "energy.insert(4, 'Day',energy['Date_Time'].dt.weekday) #weekday_name\n",
    "energy.insert(5, 'Hour',energy['Date_Time'].dt.hour) #hour\n",
    "\n",
    "#Exclude other numerical variables (univariate analysis)\n",
    "energy = energy.iloc[:,0:8]\n",
    "\n",
    "#Preview data\n",
    "energy.head()"
   ]
  },
  {
   "cell_type": "markdown",
   "metadata": {},
   "source": [
    "## Explore and Visualize Series\n",
    "\n",
    "### Descriptive Analysis"
   ]
  },
  {
   "cell_type": "code",
   "execution_count": 558,
   "metadata": {},
   "outputs": [
    {
     "data": {
      "text/plain": [
       "count    2049280.000000\n",
       "mean           1.090000\n",
       "std            1.060000\n",
       "min            0.080000\n",
       "25%            0.310000\n",
       "50%            0.600000\n",
       "75%            1.530000\n",
       "max           11.120000\n",
       "Name: Global_active_power, dtype: object"
      ]
     },
     "execution_count": 558,
     "metadata": {},
     "output_type": "execute_result"
    }
   ],
   "source": [
    "np.round(energy['Global_active_power'].describe(), 2).apply(lambda x: format(x, 'f'))"
   ]
  },
  {
   "cell_type": "code",
   "execution_count": 559,
   "metadata": {},
   "outputs": [
    {
     "data": {
      "image/png": "[encoded data removed]",
      "text/plain": [
       "<Figure size 720x504 with 4 Axes>"
      ]
     },
     "metadata": {},
     "output_type": "display_data"
    }
   ],
   "source": [
    "f, axes = plt.subplots(2,2, figsize=(10, 7), sharex=False, gridspec_kw={\"height_ratios\": (.15, .85),\n",
    "                                                                       \"width_ratios\":(.60,.40)})\n",
    "sns.boxplot(energy[\"Global_active_power\"] , color=\"blue\", ax=axes[0,0])\n",
    "axes[0,0].set_xlabel('')\n",
    "axes[0,0].set_xlim(0, None)\n",
    "sns.distplot(energy[\"Global_active_power\"] , color=\"blue\", ax=axes[1,0])\n",
    "axes[0,0].set_xlim(0, None)\n",
    "axes[1,0].set_title('Distribution of Global_active_power')\n",
    "\n",
    "sns.boxplot(energy[\"Global_active_power\"], color=\"purple\", ax=axes[0,1])\n",
    "axes[0,1].set_xlabel('')\n",
    "axes[0,1].set_xlim(0, 3.37)\n",
    "\n",
    "sns.distplot(energy[\"Global_active_power\"], color=\"purple\", ax=axes[1,1])\n",
    "axes[1,1].set_title('Distribution without Outliers')\n",
    "axes[1,1].set_xlim(0, 3.37)\n",
    "# Annotate\n",
    "axes[1,1].annotate(\n",
    "'Mean', xy=(energy[\"Global_active_power\"].mean(), .15), xytext=(.8, .6),\n",
    "arrowprops=dict(facecolor='black', shrink=0.01))\n",
    "\n",
    "plt.show()"
   ]
  },
  {
   "cell_type": "code",
   "execution_count": 560,
   "metadata": {},
   "outputs": [
    {
     "name": "stderr",
     "output_type": "stream",
     "text": [
      "/Users/MaryAnna/anaconda3/lib/python3.7/site-packages/pandas/core/groupby/generic.py:1315: FutureWarning:\n",
      "\n",
      "using a dict with renaming is deprecated and will be removed in a future version\n",
      "\n"
     ]
    },
    {
     "data": {
      "text/plain": [
       "<matplotlib.legend.Legend at 0x1a6d18c1d0>"
      ]
     },
     "execution_count": 560,
     "metadata": {},
     "output_type": "execute_result"
    },
    {
     "data": {
      "image/png": "[encoded data removed]",
      "text/plain": [
       "<Figure size 1080x720 with 3 Axes>"
      ]
     },
     "metadata": {},
     "output_type": "display_data"
    }
   ],
   "source": [
    "energy_monthly_summary = energy.groupby(by=['Year','Month','Date'],\n",
    "                                        as_index=False).agg({'Global_active_power':{'mean_active_power': 'mean', \n",
    "                                                                                    'median_active_power': 'median', \n",
    "                                                                                    'max_active_power': 'max'}})\n",
    "\n",
    "energy_monthly_summary.head()\n",
    "sns.set_style(\"darkgrid\")\n",
    "f, axes = plt.subplots(3, figsize=(15, 10), sharex=False)\n",
    "mean = sns.barplot(x=energy_monthly_summary.Month,\n",
    "            y=energy_monthly_summary.Global_active_power.mean_active_power,\n",
    "            hue=energy_monthly_summary.Year,\n",
    "            palette=\"colorblind\",\n",
    "            ax=axes[0])\n",
    "mean.set_title('Monthly Global Active Power Summary')\n",
    "mean.set_ylabel('Average Daily Demand by Month')\n",
    "\n",
    "mean.legend_.remove()\n",
    "              \n",
    "median = sns.barplot(x=energy_monthly_summary.Month,\n",
    "            y=energy_monthly_summary.Global_active_power.median_active_power,\n",
    "            hue=energy_monthly_summary.Year,\n",
    "            palette=\"colorblind\",\n",
    "            ax=axes[1])\n",
    "median.legend_.remove()\n",
    "median.set_ylabel('Average Daily Median Demand by Month')\n",
    "\n",
    "max = sns.barplot(x=energy_monthly_summary.Month,\n",
    "            y=energy_monthly_summary.Global_active_power.max_active_power,\n",
    "            hue=energy_monthly_summary.Year,\n",
    "            palette=\"colorblind\",\n",
    "            ax=axes[2])\n",
    "max.set_ylabel('Average Daily Peak Demand by Month')\n",
    "\n",
    "plt.legend(loc='upper center', bbox_to_anchor=(0.5, 3.35), shadow=True, ncol=5)\n"
   ]
  },
  {
   "cell_type": "code",
   "execution_count": 561,
   "metadata": {},
   "outputs": [
    {
     "data": {
      "text/plain": [
       "<seaborn.axisgrid.FacetGrid at 0x1a5dcf03c8>"
      ]
     },
     "execution_count": 561,
     "metadata": {},
     "output_type": "execute_result"
    },
    {
     "data": {
      "image/png": "[encoded data removed]",
      "text/plain": [
       "<Figure size 1440x360 with 4 Axes>"
      ]
     },
     "metadata": {},
     "output_type": "display_data"
    }
   ],
   "source": [
    "energy_weekday_summary = energy.groupby(by=['Year','Month','Day'], as_index=False)[['Global_active_power']].mean()\n",
    "\n",
    "day_plot = sns.catplot(x=\"Day\", y=\"Global_active_power\", data=energy_weekday_summary.query(\"Year != 2006\"), \n",
    "           kind=\"box\",\n",
    "           col=\"Year\")\n",
    "day_plot.set_titles(size = 15)\n"
   ]
  },
  {
   "cell_type": "code",
   "execution_count": 562,
   "metadata": {},
   "outputs": [
    {
     "data": {
      "text/plain": [
       "<seaborn.axisgrid.FacetGrid at 0x1a6f4ef710>"
      ]
     },
     "execution_count": 562,
     "metadata": {},
     "output_type": "execute_result"
    },
    {
     "data": {
      "image/png": "[encoded data removed]",
      "text/plain": [
       "<Figure size 1440x360 with 4 Axes>"
      ]
     },
     "metadata": {},
     "output_type": "display_data"
    }
   ],
   "source": [
    "energy_hourly_summary = energy.groupby(by=['Year','Month','Day','Hour'], \n",
    "                                       as_index=False)[['Global_active_power']].mean()\n",
    "\n",
    "hour_plot = sns.catplot(x=\"Hour\", y=\"Global_active_power\", data=energy_hourly_summary.query(\"Year != 2006\"), \n",
    "           kind=\"bar\",\n",
    "           col=\"Year\")\n",
    "hour_plot.set_titles(size = 15)"
   ]
  },
  {
   "cell_type": "markdown",
   "metadata": {},
   "source": [
    "### Visualizations"
   ]
  },
  {
   "cell_type": "code",
   "execution_count": 564,
   "metadata": {},
   "outputs": [
    {
     "name": "stdout",
     "output_type": "stream",
     "text": [
      "High five! You successfully sent some data to your account on plotly. View your plot in your browser at https://plot.ly/~mkivenson/0 or inside your plot.ly account where it is named 'household_power_consumption'\n"
     ]
    },
    {
     "name": "stderr",
     "output_type": "stream",
     "text": [
      "/Users/MaryAnna/anaconda3/lib/python3.7/site-packages/IPython/core/display.py:689: UserWarning:\n",
      "\n",
      "Consider using IPython.display.IFrame instead\n",
      "\n"
     ]
    },
    {
     "data": {
      "text/html": [
       "<iframe id=\"igraph\" scrolling=\"no\" style=\"border:none;\" seamless=\"seamless\" src=\"https://plot.ly/~mkivenson/0.embed\" height=\"525px\" width=\"100%\"></iframe>"
      ],
      "text/plain": [
       "<plotly.tools.PlotlyDisplay object>"
      ]
     },
     "execution_count": 564,
     "metadata": {},
     "output_type": "execute_result"
    }
   ],
   "source": [
    "energy.Date = pd.to_datetime(energy['Date'])\n",
    "energy_daily_summary = energy.groupby('Date', \n",
    "                                      as_index=False).agg(\n",
    "    {'Global_active_power':{'mean_active_power': 'mean',\n",
    "                            'median_active_power': 'median',\n",
    "                            'max_active_power': 'max'}})\n",
    "mean_power = go.Scatter(x=energy_daily_summary.Date,\n",
    "                        y=energy_daily_summary.Global_active_power.mean_active_power,\n",
    "                        name='mean_power',\n",
    "                        line=dict(color='red'))\n",
    "\n",
    "median_power = go.Scatter(x=energy_daily_summary.Date,\n",
    "                            y=energy_daily_summary.Global_active_power.median_active_power,\n",
    "                            name='median_power',\n",
    "                            line=dict(color='blue'))\n",
    "\n",
    "max_power = go.Scatter(x=energy_daily_summary.Date,\n",
    "                       y=energy_daily_summary.Global_active_power.max_active_power,\n",
    "                       name='max_power',\n",
    "                       line=dict(color='green'))\n",
    "\n",
    "updatemenus = list([\n",
    "    dict(type=\"buttons\",\n",
    "         active=-1,\n",
    "         buttons=list([\n",
    "            dict(label = 'Mean',\n",
    "                 method = 'update',\n",
    "                 args = [{'visible': [True, False, False]},\n",
    "                         {'title': 'Mean Global Active Power'}]),\n",
    "                         \n",
    "            dict(label = 'Median',\n",
    "                 method = 'update',\n",
    "                 args = [{'visible': [False, True, False]},\n",
    "                         {'title': 'Median Global Active Power'}]),\n",
    "                         \n",
    "            dict(label = 'Maximum',\n",
    "                 method = 'update',\n",
    "                 args = [{'visible': [False, False, True]},\n",
    "                         {'title': 'Maximum Global Active Power'}]),\n",
    "            dict(label = 'All',\n",
    "                 method = 'update',\n",
    "                 args = [{'visible': [True, True, True]},\n",
    "                         {'title': 'Overview of Global Active Power'}]),              \n",
    "        ]),\n",
    "    )\n",
    "])\n",
    "\n",
    "data = [mean_power, median_power, max_power]\n",
    "\n",
    "layout = dict(title='Daily Global Active Power', \n",
    "              showlegend=True, \n",
    "              updatemenus = updatemenus,\n",
    "              legend=dict(orientation=\"h\"),\n",
    "              xaxis = dict(\n",
    "                  rangeselector=dict(\n",
    "                      buttons=list([\n",
    "                          dict(count=1,\n",
    "                             label='1m',\n",
    "                             step='month',\n",
    "                             stepmode='backward'),\n",
    "                          dict(count=6,\n",
    "                             label='6m',\n",
    "                             step='month',\n",
    "                             stepmode='backward'),\n",
    "                          dict(count=1,\n",
    "                            label='1y',\n",
    "                            step='year',\n",
    "                            stepmode='todate'),\n",
    "                          dict(count=2,\n",
    "                            label='2y',\n",
    "                            step='year',\n",
    "                            stepmode='backward'),\n",
    "                          dict(step='all')\n",
    "                      ]))))\n",
    "\n",
    "plot = dict(data=data, layout=layout)\n",
    "py.plotly.iplot(plot, filename='household_power_consumption')"
   ]
  },
  {
   "cell_type": "markdown",
   "metadata": {},
   "source": [
    "## Pre-Process Data"
   ]
  },
  {
   "cell_type": "code",
   "execution_count": 565,
   "metadata": {},
   "outputs": [
    {
     "data": {
      "text/plain": [
       "Date_Time              datetime64[ns]\n",
       "Date                   datetime64[ns]\n",
       "Year                            int64\n",
       "Month                           int64\n",
       "Day                             int64\n",
       "Hour                            int64\n",
       "Time                           object\n",
       "Global_active_power           float64\n",
       "dtype: object"
      ]
     },
     "execution_count": 565,
     "metadata": {},
     "output_type": "execute_result"
    }
   ],
   "source": [
    "energy.dtypes"
   ]
  },
  {
   "cell_type": "code",
   "execution_count": 710,
   "metadata": {},
   "outputs": [
    {
     "data": {
      "text/html": [
       "<div>\n",
       "<style scoped>\n",
       "    .dataframe tbody tr th:only-of-type {\n",
       "        vertical-align: middle;\n",
       "    }\n",
       "\n",
       "    .dataframe tbody tr th {\n",
       "        vertical-align: top;\n",
       "    }\n",
       "\n",
       "    .dataframe thead th {\n",
       "        text-align: right;\n",
       "    }\n",
       "</style>\n",
       "<table border=\"1\" class=\"dataframe\">\n",
       "  <thead>\n",
       "    <tr style=\"text-align: right;\">\n",
       "      <th></th>\n",
       "      <th>Year</th>\n",
       "      <th>Month</th>\n",
       "      <th>Day</th>\n",
       "      <th>Hour</th>\n",
       "      <th>Global_active_power</th>\n",
       "    </tr>\n",
       "  </thead>\n",
       "  <tbody>\n",
       "    <tr>\n",
       "      <th>0</th>\n",
       "      <td>0</td>\n",
       "      <td>12</td>\n",
       "      <td>0</td>\n",
       "      <td>0</td>\n",
       "      <td>0.637967</td>\n",
       "    </tr>\n",
       "    <tr>\n",
       "      <th>1</th>\n",
       "      <td>0</td>\n",
       "      <td>12</td>\n",
       "      <td>0</td>\n",
       "      <td>1</td>\n",
       "      <td>0.760033</td>\n",
       "    </tr>\n",
       "    <tr>\n",
       "      <th>2</th>\n",
       "      <td>0</td>\n",
       "      <td>12</td>\n",
       "      <td>0</td>\n",
       "      <td>2</td>\n",
       "      <td>0.361233</td>\n",
       "    </tr>\n",
       "    <tr>\n",
       "      <th>3</th>\n",
       "      <td>0</td>\n",
       "      <td>12</td>\n",
       "      <td>0</td>\n",
       "      <td>3</td>\n",
       "      <td>0.449950</td>\n",
       "    </tr>\n",
       "    <tr>\n",
       "      <th>4</th>\n",
       "      <td>0</td>\n",
       "      <td>12</td>\n",
       "      <td>0</td>\n",
       "      <td>4</td>\n",
       "      <td>0.802500</td>\n",
       "    </tr>\n",
       "  </tbody>\n",
       "</table>\n",
       "</div>"
      ],
      "text/plain": [
       "   Year  Month  Day  Hour  Global_active_power\n",
       "0     0     12    0     0             0.637967\n",
       "1     0     12    0     1             0.760033\n",
       "2     0     12    0     2             0.361233\n",
       "3     0     12    0     3             0.449950\n",
       "4     0     12    0     4             0.802500"
      ]
     },
     "execution_count": 710,
     "metadata": {},
     "output_type": "execute_result"
    }
   ],
   "source": [
    "from sklearn import preprocessing\n",
    "\n",
    "#summarize by mean hourly energy\n",
    "energy_hourly_summary = energy.groupby(\n",
    "    by=['Year','Month','Day',\"Hour\"], as_index=False)[['Global_active_power']].mean()\n",
    "\n",
    "# create the Label Encoder object\n",
    "le = preprocessing.LabelEncoder()\n",
    "\n",
    "#encode categorical data\n",
    "energy_hourly_summary['Year'] = le.fit_transform(energy_hourly_summary['Year'])\n",
    "\n",
    "energy_hourly_summary.head()"
   ]
  },
  {
   "cell_type": "markdown",
   "metadata": {},
   "source": [
    "## Time Series Forecasting\n",
    "\n",
    "### Train-Test Split\n",
    "\n",
    "#### Partition Series"
   ]
  },
  {
   "cell_type": "code",
   "execution_count": 724,
   "metadata": {},
   "outputs": [],
   "source": [
    "# Partition Series\n",
    "from sklearn.model_selection import train_test_split\n",
    "x = energy_hourly_summary[['Year','Month','Day','Hour']]\n",
    "y = energy_hourly_summary.Global_active_power\n",
    "x_train1,x_test1,y_train1,y_test1=train_test_split(x, y, train_size=0.75, test_size = 0.25, random_state=1)"
   ]
  },
  {
   "cell_type": "markdown",
   "metadata": {},
   "source": [
    "#### Apply Forecasting Methods"
   ]
  },
  {
   "cell_type": "code",
   "execution_count": 725,
   "metadata": {},
   "outputs": [],
   "source": [
    "# Apply Forecasting Methods\n",
    "from sklearn.linear_model import LinearRegression\n",
    "lm = LinearRegression()\n",
    "model = lm.fit(x_train1, y_train1)\n",
    "predictions=lm.predict(x_test1)"
   ]
  },
  {
   "cell_type": "markdown",
   "metadata": {},
   "source": [
    "#### Evaluate Performance"
   ]
  },
  {
   "cell_type": "code",
   "execution_count": null,
   "metadata": {},
   "outputs": [],
   "source": [
    "from scipy import stats\n",
    "slope, intercept, r_value, p_value, std_err = stats.linregress(y_test1, predictions)\n",
    "\n",
    "plt.plot(y_test1, predictions, 'o', label='data')\n",
    "plt.plot(y_test1, intercept + slope*y_test1, 'r', label='fitted line')\n",
    "plt.legend()\n",
    "plt.annotate(\n",
    "'y = ' + str(round(slope,2)) + 'x' + ' + ' + str(round(intercept,2)), xy=(3, 1.5), xytext=(3.2, 1.25),\n",
    "arrowprops=dict(facecolor='black', shrink=0.01))\n",
    "plt.xlabel('Actual Values')\n",
    "plt.title('Actual vs Predicted Values')\n",
    "plt.ylabel('Predicted Values')\n",
    "plt.show()\n",
    "print(\"r-squared: %f\" % r_value**2)"
   ]
  },
  {
   "cell_type": "code",
   "execution_count": 803,
   "metadata": {},
   "outputs": [
    {
     "data": {
      "text/html": [
       "<div>\n",
       "<style scoped>\n",
       "    .dataframe tbody tr th:only-of-type {\n",
       "        vertical-align: middle;\n",
       "    }\n",
       "\n",
       "    .dataframe tbody tr th {\n",
       "        vertical-align: top;\n",
       "    }\n",
       "\n",
       "    .dataframe thead th {\n",
       "        text-align: right;\n",
       "    }\n",
       "</style>\n",
       "<table border=\"1\" class=\"dataframe\">\n",
       "  <thead>\n",
       "    <tr style=\"text-align: right;\">\n",
       "      <th></th>\n",
       "      <th>Date_Time</th>\n",
       "      <th>Date</th>\n",
       "      <th>Year</th>\n",
       "      <th>Month</th>\n",
       "      <th>Day</th>\n",
       "      <th>Hour</th>\n",
       "      <th>Time</th>\n",
       "      <th>Global_active_power</th>\n",
       "    </tr>\n",
       "  </thead>\n",
       "  <tbody>\n",
       "    <tr>\n",
       "      <th>0</th>\n",
       "      <td>2006-12-16 17:24:00</td>\n",
       "      <td>2006-12-16</td>\n",
       "      <td>0</td>\n",
       "      <td>12</td>\n",
       "      <td>5</td>\n",
       "      <td>17</td>\n",
       "      <td>17:24:00</td>\n",
       "      <td>4.216</td>\n",
       "    </tr>\n",
       "    <tr>\n",
       "      <th>1</th>\n",
       "      <td>2006-12-16 17:25:00</td>\n",
       "      <td>2006-12-16</td>\n",
       "      <td>0</td>\n",
       "      <td>12</td>\n",
       "      <td>5</td>\n",
       "      <td>17</td>\n",
       "      <td>17:25:00</td>\n",
       "      <td>5.360</td>\n",
       "    </tr>\n",
       "    <tr>\n",
       "      <th>2</th>\n",
       "      <td>2006-12-16 17:26:00</td>\n",
       "      <td>2006-12-16</td>\n",
       "      <td>0</td>\n",
       "      <td>12</td>\n",
       "      <td>5</td>\n",
       "      <td>17</td>\n",
       "      <td>17:26:00</td>\n",
       "      <td>5.374</td>\n",
       "    </tr>\n",
       "    <tr>\n",
       "      <th>3</th>\n",
       "      <td>2006-12-16 17:27:00</td>\n",
       "      <td>2006-12-16</td>\n",
       "      <td>0</td>\n",
       "      <td>12</td>\n",
       "      <td>5</td>\n",
       "      <td>17</td>\n",
       "      <td>17:27:00</td>\n",
       "      <td>5.388</td>\n",
       "    </tr>\n",
       "    <tr>\n",
       "      <th>4</th>\n",
       "      <td>2006-12-16 17:28:00</td>\n",
       "      <td>2006-12-16</td>\n",
       "      <td>0</td>\n",
       "      <td>12</td>\n",
       "      <td>5</td>\n",
       "      <td>17</td>\n",
       "      <td>17:28:00</td>\n",
       "      <td>3.666</td>\n",
       "    </tr>\n",
       "  </tbody>\n",
       "</table>\n",
       "</div>"
      ],
      "text/plain": [
       "            Date_Time       Date  Year  Month  Day  Hour      Time  \\\n",
       "0 2006-12-16 17:24:00 2006-12-16     0     12    5    17  17:24:00   \n",
       "1 2006-12-16 17:25:00 2006-12-16     0     12    5    17  17:25:00   \n",
       "2 2006-12-16 17:26:00 2006-12-16     0     12    5    17  17:26:00   \n",
       "3 2006-12-16 17:27:00 2006-12-16     0     12    5    17  17:27:00   \n",
       "4 2006-12-16 17:28:00 2006-12-16     0     12    5    17  17:28:00   \n",
       "\n",
       "   Global_active_power  \n",
       "0                4.216  \n",
       "1                5.360  \n",
       "2                5.374  \n",
       "3                5.388  \n",
       "4                3.666  "
      ]
     },
     "execution_count": 803,
     "metadata": {},
     "output_type": "execute_result"
    }
   ],
   "source": [
    "train = energy[energy['Year'] < 4] #train set is years 2006 - 2009\n",
    "test = energy[energy['Year'] == 4] #test set is year 2010"
   ]
  },
  {
   "cell_type": "code",
   "execution_count": null,
   "metadata": {},
   "outputs": [],
   "source": [
    "# SARIMA example\n",
    "from statsmodels.tsa.statespace.sarimax import SARIMAX\n",
    "import statsmodels.api as sm\n",
    "\n",
    "mod = SARIMAX(train[['Date_Time','Global_active_power']].set_index('Date_Time').to_numpy())\n",
    "results = mod.fit()\n",
    "results.forecast()\n"
   ]
  },
  {
   "cell_type": "code",
   "execution_count": null,
   "metadata": {},
   "outputs": [],
   "source": [
    "results.plot_diagnostics(figsize=(15, 12))\n",
    "plt.show()"
   ]
  },
  {
   "cell_type": "code",
   "execution_count": 816,
   "metadata": {},
   "outputs": [
    {
     "name": "stderr",
     "output_type": "stream",
     "text": [
      "/Users/MaryAnna/anaconda3/lib/python3.7/site-packages/statsmodels/tsa/base/tsa_model.py:518: ValueWarning:\n",
      "\n",
      "Because the model data (`endog`, `exog`) were not given as Pandas objects, the prediction output will be Numpy arrays, and the given `index` argument will only be used internally.\n",
      "\n"
     ]
    },
    {
     "data": {
      "text/plain": [
       "<statsmodels.tsa.statespace.mlemodel.PredictionResultsWrapper at 0x1aedf4b6d8>"
      ]
     },
     "execution_count": 816,
     "metadata": {},
     "output_type": "execute_result"
    }
   ],
   "source": [
    "fcast_index = pd.to_datetime(test['Date_Time']).to_numpy()\n",
    "results.get_forecast(steps=len(test['Date_Time']), index=fcast_index)"
   ]
  },
  {
   "cell_type": "code",
   "execution_count": 623,
   "metadata": {},
   "outputs": [
    {
     "name": "stdout",
     "output_type": "stream",
     "text": [
      "Observations: 2049280\n",
      "Training (Plotted in Blue): 1536960\n",
      "Testing (Plotted in Orange): 512320\n"
     ]
    },
    {
     "data": {
      "image/png": "[encoded data removed]",
      "text/plain": [
       "<Figure size 432x288 with 1 Axes>"
      ]
     },
     "metadata": {},
     "output_type": "display_data"
    }
   ],
   "source": [
    "#Time Series Split\n",
    "from sklearn.model_selection import TimeSeriesSplit\n",
    "tscv = TimeSeriesSplit(n_splits=3)\n",
    "X = energy[['Year','Month','Day','Hour','Global_active_power']]\n",
    "train_size = int(len(X) * 0.75)\n",
    "train1, test1 = X[0:train_size], X[train_size:len(X)]\n",
    "print('Observations: %d' % (len(X)))\n",
    "print('Training (Plotted in Blue): %d' % (len(train)))\n",
    "print('Testing (Plotted in Orange): %d' % (len(test)))\n",
    "\n",
    "plt.plot(train1['Global_active_power'])\n",
    "plt.plot([None for i in train1['Global_active_power']] + [x for x in test1['Global_active_power']])\n",
    "plt.title('Records in Train and Test Sets')\n",
    "plt.xlabel('record')\n",
    "plt.ylabel('power')\n",
    "plt.show()"
   ]
  },
  {
   "cell_type": "markdown",
   "metadata": {},
   "source": [
    "## Apply Forecasting Methods"
   ]
  },
  {
   "cell_type": "code",
   "execution_count": null,
   "metadata": {},
   "outputs": [],
   "source": []
  },
  {
   "cell_type": "markdown",
   "metadata": {},
   "source": [
    "## Evaluate and Compare Performance"
   ]
  },
  {
   "cell_type": "markdown",
   "metadata": {},
   "source": [
    "## Implement Forecasts"
   ]
  },
  {
   "cell_type": "code",
   "execution_count": null,
   "metadata": {},
   "outputs": [],
   "source": []
  }
 ],
 "metadata": {
  "kernelspec": {
   "display_name": "Python 3",
   "language": "python",
   "name": "python3"
  },
  "language_info": {
   "codemirror_mode": {
    "name": "ipython",
    "version": 3
   },
   "file_extension": ".py",
   "mimetype": "text/x-python",
   "name": "python",
   "nbconvert_exporter": "python",
   "pygments_lexer": "ipython3",
   "version": "3.7.3"
  }
 },
 "nbformat": 4,
 "nbformat_minor": 2
}
